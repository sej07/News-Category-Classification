{
 "cells": [
  {
   "cell_type": "markdown",
   "metadata": {},
   "source": [
    "### Importing Libraries"
   ]
  },
  {
   "cell_type": "code",
   "execution_count": 2,
   "metadata": {
    "execution": {
     "iopub.execute_input": "2025-05-17T09:18:29.802945Z",
     "iopub.status.busy": "2025-05-17T09:18:29.802549Z",
     "iopub.status.idle": "2025-05-17T09:18:52.341842Z",
     "shell.execute_reply": "2025-05-17T09:18:52.339947Z",
     "shell.execute_reply.started": "2025-05-17T09:18:29.802916Z"
    }
   },
   "outputs": [
    {
     "name": "stderr",
     "output_type": "stream",
     "text": [
      "2025-05-17 09:18:32.549999: E external/local_xla/xla/stream_executor/cuda/cuda_fft.cc:477] Unable to register cuFFT factory: Attempting to register factory for plugin cuFFT when one has already been registered\n",
      "WARNING: All log messages before absl::InitializeLog() is called are written to STDERR\n",
      "E0000 00:00:1747473512.921990      35 cuda_dnn.cc:8310] Unable to register cuDNN factory: Attempting to register factory for plugin cuDNN when one has already been registered\n",
      "E0000 00:00:1747473513.059010      35 cuda_blas.cc:1418] Unable to register cuBLAS factory: Attempting to register factory for plugin cuBLAS when one has already been registered\n"
     ]
    }
   ],
   "source": [
    "import numpy as np\n",
    "import pandas as pd\n",
    "import matplotlib.pyplot as plt\n",
    "import tensorflow as tf\n",
    "from sklearn.preprocessing import LabelEncoder\n",
    "from sklearn.model_selection import train_test_split\n",
    "from sklearn.metrics import classification_report\n",
    "from tensorflow.keras.preprocessing.text import Tokenizer\n",
    "from tensorflow.keras.preprocessing.sequence import pad_sequences\n",
    "from tensorflow.keras.models import Sequential\n",
    "from tensorflow.keras.layers import Embedding, LSTM, Dense, Dropout"
   ]
  },
  {
   "cell_type": "code",
   "execution_count": 3,
   "metadata": {
    "execution": {
     "iopub.execute_input": "2025-05-17T09:18:52.345003Z",
     "iopub.status.busy": "2025-05-17T09:18:52.344348Z",
     "iopub.status.idle": "2025-05-17T09:18:52.847274Z",
     "shell.execute_reply": "2025-05-17T09:18:52.846206Z",
     "shell.execute_reply.started": "2025-05-17T09:18:52.344975Z"
    }
   },
   "outputs": [],
   "source": [
    "import seaborn as sns"
   ]
  },
  {
   "cell_type": "markdown",
   "metadata": {},
   "source": [
    "### Dataset"
   ]
  },
  {
   "cell_type": "code",
   "execution_count": 4,
   "metadata": {
    "execution": {
     "iopub.execute_input": "2025-05-17T09:18:52.850406Z",
     "iopub.status.busy": "2025-05-17T09:18:52.848922Z",
     "iopub.status.idle": "2025-05-17T09:18:55.980266Z",
     "shell.execute_reply": "2025-05-17T09:18:55.978651Z",
     "shell.execute_reply.started": "2025-05-17T09:18:52.850177Z"
    },
    "jupyter": {
     "source_hidden": true
    }
   },
   "outputs": [],
   "source": [
    "df = pd.read_json(\"/kaggle/input/news-category-dataset/News_Category_Dataset_v3.json\",lines= True )"
   ]
  },
  {
   "cell_type": "markdown",
   "metadata": {},
   "source": [
    "### Preprocessing Data"
   ]
  },
  {
   "cell_type": "code",
   "execution_count": 5,
   "metadata": {
    "execution": {
     "iopub.execute_input": "2025-05-17T09:18:55.983700Z",
     "iopub.status.busy": "2025-05-17T09:18:55.983373Z",
     "iopub.status.idle": "2025-05-17T09:18:56.038254Z",
     "shell.execute_reply": "2025-05-17T09:18:56.037298Z",
     "shell.execute_reply.started": "2025-05-17T09:18:55.983675Z"
    }
   },
   "outputs": [],
   "source": [
    "df = df[['headline', 'category']]"
   ]
  },
  {
   "cell_type": "code",
   "execution_count": 6,
   "metadata": {
    "execution": {
     "iopub.execute_input": "2025-05-17T09:18:56.039606Z",
     "iopub.status.busy": "2025-05-17T09:18:56.039301Z",
     "iopub.status.idle": "2025-05-17T09:18:56.113533Z",
     "shell.execute_reply": "2025-05-17T09:18:56.112438Z",
     "shell.execute_reply.started": "2025-05-17T09:18:56.039584Z"
    }
   },
   "outputs": [],
   "source": [
    "df.dropna(inplace=True)\n"
   ]
  },
  {
   "cell_type": "code",
   "execution_count": 7,
   "metadata": {
    "execution": {
     "iopub.execute_input": "2025-05-17T09:18:56.115124Z",
     "iopub.status.busy": "2025-05-17T09:18:56.114746Z",
     "iopub.status.idle": "2025-05-17T09:18:56.164783Z",
     "shell.execute_reply": "2025-05-17T09:18:56.163224Z",
     "shell.execute_reply.started": "2025-05-17T09:18:56.115094Z"
    }
   },
   "outputs": [],
   "source": [
    "df = df[df['category'] != '']"
   ]
  },
  {
   "cell_type": "code",
   "execution_count": 8,
   "metadata": {
    "execution": {
     "iopub.execute_input": "2025-05-17T09:18:56.166160Z",
     "iopub.status.busy": "2025-05-17T09:18:56.165826Z",
     "iopub.status.idle": "2025-05-17T09:18:56.203619Z",
     "shell.execute_reply": "2025-05-17T09:18:56.202748Z",
     "shell.execute_reply.started": "2025-05-17T09:18:56.166125Z"
    }
   },
   "outputs": [
    {
     "data": {
      "text/html": [
       "<div>\n",
       "<style scoped>\n",
       "    .dataframe tbody tr th:only-of-type {\n",
       "        vertical-align: middle;\n",
       "    }\n",
       "\n",
       "    .dataframe tbody tr th {\n",
       "        vertical-align: top;\n",
       "    }\n",
       "\n",
       "    .dataframe thead th {\n",
       "        text-align: right;\n",
       "    }\n",
       "</style>\n",
       "<table border=\"1\" class=\"dataframe\">\n",
       "  <thead>\n",
       "    <tr style=\"text-align: right;\">\n",
       "      <th></th>\n",
       "      <th>headline</th>\n",
       "      <th>category</th>\n",
       "    </tr>\n",
       "  </thead>\n",
       "  <tbody>\n",
       "    <tr>\n",
       "      <th>0</th>\n",
       "      <td>Over 4 Million Americans Roll Up Sleeves For O...</td>\n",
       "      <td>U.S. NEWS</td>\n",
       "    </tr>\n",
       "    <tr>\n",
       "      <th>1</th>\n",
       "      <td>American Airlines Flyer Charged, Banned For Li...</td>\n",
       "      <td>U.S. NEWS</td>\n",
       "    </tr>\n",
       "    <tr>\n",
       "      <th>2</th>\n",
       "      <td>23 Of The Funniest Tweets About Cats And Dogs ...</td>\n",
       "      <td>COMEDY</td>\n",
       "    </tr>\n",
       "    <tr>\n",
       "      <th>3</th>\n",
       "      <td>The Funniest Tweets From Parents This Week (Se...</td>\n",
       "      <td>PARENTING</td>\n",
       "    </tr>\n",
       "    <tr>\n",
       "      <th>4</th>\n",
       "      <td>Woman Who Called Cops On Black Bird-Watcher Lo...</td>\n",
       "      <td>U.S. NEWS</td>\n",
       "    </tr>\n",
       "  </tbody>\n",
       "</table>\n",
       "</div>"
      ],
      "text/plain": [
       "                                            headline   category\n",
       "0  Over 4 Million Americans Roll Up Sleeves For O...  U.S. NEWS\n",
       "1  American Airlines Flyer Charged, Banned For Li...  U.S. NEWS\n",
       "2  23 Of The Funniest Tweets About Cats And Dogs ...     COMEDY\n",
       "3  The Funniest Tweets From Parents This Week (Se...  PARENTING\n",
       "4  Woman Who Called Cops On Black Bird-Watcher Lo...  U.S. NEWS"
      ]
     },
     "execution_count": 8,
     "metadata": {},
     "output_type": "execute_result"
    }
   ],
   "source": [
    "df.head()"
   ]
  },
  {
   "cell_type": "code",
   "execution_count": 9,
   "metadata": {
    "execution": {
     "iopub.execute_input": "2025-05-17T09:18:56.205898Z",
     "iopub.status.busy": "2025-05-17T09:18:56.205109Z",
     "iopub.status.idle": "2025-05-17T09:18:56.630700Z",
     "shell.execute_reply": "2025-05-17T09:18:56.629258Z",
     "shell.execute_reply.started": "2025-05-17T09:18:56.205867Z"
    }
   },
   "outputs": [
    {
     "data": {
      "image/png": "[encoded data removed]",
      "text/plain": [
       "<Figure size 1200x800 with 1 Axes>"
      ]
     },
     "metadata": {},
     "output_type": "display_data"
    }
   ],
   "source": [
    "plt.figure(figsize= (12,8))\n",
    "top = df['category'].value_counts().nlargest(20)\n",
    "sns.barplot(y=top.index, x= top.values)\n",
    "plt.show()"
   ]
  },
  {
   "cell_type": "code",
   "execution_count": 10,
   "metadata": {
    "execution": {
     "iopub.execute_input": "2025-05-17T09:18:56.632598Z",
     "iopub.status.busy": "2025-05-17T09:18:56.632109Z",
     "iopub.status.idle": "2025-05-17T09:18:56.637946Z",
     "shell.execute_reply": "2025-05-17T09:18:56.636862Z",
     "shell.execute_reply.started": "2025-05-17T09:18:56.632574Z"
    }
   },
   "outputs": [],
   "source": [
    "label_encoder= LabelEncoder()\n"
   ]
  },
  {
   "cell_type": "code",
   "execution_count": 11,
   "metadata": {
    "execution": {
     "iopub.execute_input": "2025-05-17T09:18:56.640966Z",
     "iopub.status.busy": "2025-05-17T09:18:56.640598Z",
     "iopub.status.idle": "2025-05-17T09:18:56.732604Z",
     "shell.execute_reply": "2025-05-17T09:18:56.731228Z",
     "shell.execute_reply.started": "2025-05-17T09:18:56.640914Z"
    }
   },
   "outputs": [],
   "source": [
    "df['label'] = label_encoder.fit_transform(df['category'])"
   ]
  },
  {
   "cell_type": "code",
   "execution_count": 12,
   "metadata": {
    "execution": {
     "iopub.execute_input": "2025-05-17T09:18:56.733927Z",
     "iopub.status.busy": "2025-05-17T09:18:56.733632Z",
     "iopub.status.idle": "2025-05-17T09:18:56.739665Z",
     "shell.execute_reply": "2025-05-17T09:18:56.738234Z",
     "shell.execute_reply.started": "2025-05-17T09:18:56.733905Z"
    }
   },
   "outputs": [],
   "source": [
    "num_classes = len(label_encoder.classes_)"
   ]
  },
  {
   "cell_type": "markdown",
   "metadata": {},
   "source": [
    "### Tokenization"
   ]
  },
  {
   "cell_type": "code",
   "execution_count": 13,
   "metadata": {
    "collapsed": true,
    "execution": {
     "iopub.execute_input": "2025-05-17T09:18:56.741181Z",
     "iopub.status.busy": "2025-05-17T09:18:56.740910Z",
     "iopub.status.idle": "2025-05-17T09:18:56.766410Z",
     "shell.execute_reply": "2025-05-17T09:18:56.764940Z",
     "shell.execute_reply.started": "2025-05-17T09:18:56.741160Z"
    },
    "jupyter": {
     "outputs_hidden": true
    },
    "scrolled": true
   },
   "outputs": [
    {
     "data": {
      "text/html": [
       "<div>\n",
       "<style scoped>\n",
       "    .dataframe tbody tr th:only-of-type {\n",
       "        vertical-align: middle;\n",
       "    }\n",
       "\n",
       "    .dataframe tbody tr th {\n",
       "        vertical-align: top;\n",
       "    }\n",
       "\n",
       "    .dataframe thead th {\n",
       "        text-align: right;\n",
       "    }\n",
       "</style>\n",
       "<table border=\"1\" class=\"dataframe\">\n",
       "  <thead>\n",
       "    <tr style=\"text-align: right;\">\n",
       "      <th></th>\n",
       "      <th>headline</th>\n",
       "      <th>category</th>\n",
       "      <th>label</th>\n",
       "    </tr>\n",
       "  </thead>\n",
       "  <tbody>\n",
       "    <tr>\n",
       "      <th>0</th>\n",
       "      <td>Over 4 Million Americans Roll Up Sleeves For O...</td>\n",
       "      <td>U.S. NEWS</td>\n",
       "      <td>35</td>\n",
       "    </tr>\n",
       "    <tr>\n",
       "      <th>1</th>\n",
       "      <td>American Airlines Flyer Charged, Banned For Li...</td>\n",
       "      <td>U.S. NEWS</td>\n",
       "      <td>35</td>\n",
       "    </tr>\n",
       "    <tr>\n",
       "      <th>2</th>\n",
       "      <td>23 Of The Funniest Tweets About Cats And Dogs ...</td>\n",
       "      <td>COMEDY</td>\n",
       "      <td>5</td>\n",
       "    </tr>\n",
       "    <tr>\n",
       "      <th>3</th>\n",
       "      <td>The Funniest Tweets From Parents This Week (Se...</td>\n",
       "      <td>PARENTING</td>\n",
       "      <td>22</td>\n",
       "    </tr>\n",
       "    <tr>\n",
       "      <th>4</th>\n",
       "      <td>Woman Who Called Cops On Black Bird-Watcher Lo...</td>\n",
       "      <td>U.S. NEWS</td>\n",
       "      <td>35</td>\n",
       "    </tr>\n",
       "  </tbody>\n",
       "</table>\n",
       "</div>"
      ],
      "text/plain": [
       "                                            headline   category  label\n",
       "0  Over 4 Million Americans Roll Up Sleeves For O...  U.S. NEWS     35\n",
       "1  American Airlines Flyer Charged, Banned For Li...  U.S. NEWS     35\n",
       "2  23 Of The Funniest Tweets About Cats And Dogs ...     COMEDY      5\n",
       "3  The Funniest Tweets From Parents This Week (Se...  PARENTING     22\n",
       "4  Woman Who Called Cops On Black Bird-Watcher Lo...  U.S. NEWS     35"
      ]
     },
     "execution_count": 13,
     "metadata": {},
     "output_type": "execute_result"
    }
   ],
   "source": [
    "df.head()"
   ]
  },
  {
   "cell_type": "code",
   "execution_count": 14,
   "metadata": {
    "execution": {
     "iopub.execute_input": "2025-05-17T09:18:56.767920Z",
     "iopub.status.busy": "2025-05-17T09:18:56.767633Z",
     "iopub.status.idle": "2025-05-17T09:19:00.576651Z",
     "shell.execute_reply": "2025-05-17T09:19:00.575792Z",
     "shell.execute_reply.started": "2025-05-17T09:18:56.767899Z"
    }
   },
   "outputs": [],
   "source": [
    "max_length = 25\n",
    "tokenizer = Tokenizer(num_words=10000)\n",
    "tokenizer.fit_on_texts(df['headline'])"
   ]
  },
  {
   "cell_type": "code",
   "execution_count": 15,
   "metadata": {
    "execution": {
     "iopub.execute_input": "2025-05-17T09:19:00.577993Z",
     "iopub.status.busy": "2025-05-17T09:19:00.577670Z",
     "iopub.status.idle": "2025-05-17T09:19:03.473688Z",
     "shell.execute_reply": "2025-05-17T09:19:03.472118Z",
     "shell.execute_reply.started": "2025-05-17T09:19:00.577967Z"
    }
   },
   "outputs": [],
   "source": [
    "sequences = tokenizer.texts_to_sequences(df['headline'])"
   ]
  },
  {
   "cell_type": "code",
   "execution_count": 16,
   "metadata": {
    "execution": {
     "iopub.execute_input": "2025-05-17T09:19:03.475395Z",
     "iopub.status.busy": "2025-05-17T09:19:03.474931Z",
     "iopub.status.idle": "2025-05-17T09:19:03.484962Z",
     "shell.execute_reply": "2025-05-17T09:19:03.482636Z",
     "shell.execute_reply.started": "2025-05-17T09:19:03.475357Z"
    }
   },
   "outputs": [],
   "source": [
    "word_index = tokenizer.word_index"
   ]
  },
  {
   "cell_type": "code",
   "execution_count": null,
   "metadata": {},
   "outputs": [],
   "source": []
  },
  {
   "cell_type": "markdown",
   "metadata": {},
   "source": [
    "### Padding"
   ]
  },
  {
   "cell_type": "code",
   "execution_count": 17,
   "metadata": {
    "execution": {
     "iopub.execute_input": "2025-05-17T09:19:03.487002Z",
     "iopub.status.busy": "2025-05-17T09:19:03.486490Z",
     "iopub.status.idle": "2025-05-17T09:19:04.055745Z",
     "shell.execute_reply": "2025-05-17T09:19:04.054689Z",
     "shell.execute_reply.started": "2025-05-17T09:19:03.486965Z"
    }
   },
   "outputs": [],
   "source": [
    "x = pad_sequences(sequences, maxlen=max_length)"
   ]
  },
  {
   "cell_type": "code",
   "execution_count": 18,
   "metadata": {
    "execution": {
     "iopub.execute_input": "2025-05-17T09:19:04.056944Z",
     "iopub.status.busy": "2025-05-17T09:19:04.056654Z",
     "iopub.status.idle": "2025-05-17T09:19:04.116739Z",
     "shell.execute_reply": "2025-05-17T09:19:04.115799Z",
     "shell.execute_reply.started": "2025-05-17T09:19:04.056923Z"
    }
   },
   "outputs": [],
   "source": [
    "y = tf.keras.utils.to_categorical(df['label'], num_classes=num_classes)"
   ]
  },
  {
   "cell_type": "code",
   "execution_count": 19,
   "metadata": {
    "execution": {
     "iopub.execute_input": "2025-05-17T09:19:04.118432Z",
     "iopub.status.busy": "2025-05-17T09:19:04.117944Z",
     "iopub.status.idle": "2025-05-17T09:19:04.124699Z",
     "shell.execute_reply": "2025-05-17T09:19:04.123651Z",
     "shell.execute_reply.started": "2025-05-17T09:19:04.118401Z"
    },
    "scrolled": true
   },
   "outputs": [
    {
     "name": "stdout",
     "output_type": "stream",
     "text": [
      "[[   0    0    0 ...    6 3684 1001]\n",
      " [   0    0    0 ... 5649    9   25]\n",
      " [   0    0    0 ... 7116  970 1820]\n",
      " ...\n",
      " [   0    0    0 ...   53   70  849]\n",
      " [   0    0    0 ... 4889    6 6494]\n",
      " [   0    0    0 ... 1558  519    2]]\n"
     ]
    }
   ],
   "source": [
    "print(x)"
   ]
  },
  {
   "cell_type": "markdown",
   "metadata": {},
   "source": [
    "### Train Test Split"
   ]
  },
  {
   "cell_type": "code",
   "execution_count": 20,
   "metadata": {
    "execution": {
     "iopub.execute_input": "2025-05-17T09:19:04.126019Z",
     "iopub.status.busy": "2025-05-17T09:19:04.125697Z",
     "iopub.status.idle": "2025-05-17T09:19:04.237660Z",
     "shell.execute_reply": "2025-05-17T09:19:04.236284Z",
     "shell.execute_reply.started": "2025-05-17T09:19:04.125992Z"
    }
   },
   "outputs": [],
   "source": [
    "x_train, x_test, y_train, y_test = train_test_split(x,y,stratify=y, test_size= 0.2, random_state= 42)"
   ]
  },
  {
   "cell_type": "markdown",
   "metadata": {},
   "source": [
    "### Model Architecture and Training"
   ]
  },
  {
   "cell_type": "code",
   "execution_count": 21,
   "metadata": {
    "execution": {
     "iopub.execute_input": "2025-05-17T09:21:19.083019Z",
     "iopub.status.busy": "2025-05-17T09:21:19.082651Z",
     "iopub.status.idle": "2025-05-17T09:21:19.158951Z",
     "shell.execute_reply": "2025-05-17T09:21:19.156944Z",
     "shell.execute_reply.started": "2025-05-17T09:21:19.082991Z"
    }
   },
   "outputs": [
    {
     "name": "stderr",
     "output_type": "stream",
     "text": [
      "/usr/local/lib/python3.11/dist-packages/keras/src/layers/core/embedding.py:90: UserWarning: Argument `input_length` is deprecated. Just remove it.\n",
      "  warnings.warn(\n",
      "2025-05-17 09:21:19.095294: E external/local_xla/xla/stream_executor/cuda/cuda_driver.cc:152] failed call to cuInit: INTERNAL: CUDA error: Failed call to cuInit: UNKNOWN ERROR (303)\n"
     ]
    }
   ],
   "source": [
    "model = Sequential()\n",
    "model.add(Embedding(input_dim= 10000, output_dim= 100, input_length=max_length))\n",
    "model.add(LSTM(64, return_sequences=True))\n",
    "model.add(Dropout(0.5))\n",
    "model.add(LSTM(64))\n",
    "model.add(Dropout(0.5))\n",
    "model.add(Dense(64, activation='relu'))\n",
    "model.add(Dense(num_classes, activation='softmax'))"
   ]
  },
  {
   "cell_type": "code",
   "execution_count": 22,
   "metadata": {
    "execution": {
     "iopub.execute_input": "2025-05-17T09:21:32.822896Z",
     "iopub.status.busy": "2025-05-17T09:21:32.822439Z",
     "iopub.status.idle": "2025-05-17T09:21:32.850622Z",
     "shell.execute_reply": "2025-05-17T09:21:32.849586Z",
     "shell.execute_reply.started": "2025-05-17T09:21:32.822779Z"
    }
   },
   "outputs": [],
   "source": [
    "model.compile(loss='categorical_crossentropy', optimizer='adam', metrics=['accuracy'])"
   ]
  },
  {
   "cell_type": "code",
   "execution_count": 24,
   "metadata": {
    "execution": {
     "iopub.execute_input": "2025-05-17T09:21:52.821740Z",
     "iopub.status.busy": "2025-05-17T09:21:52.821349Z",
     "iopub.status.idle": "2025-05-17T09:29:37.534164Z",
     "shell.execute_reply": "2025-05-17T09:29:37.532688Z",
     "shell.execute_reply.started": "2025-05-17T09:21:52.821684Z"
    }
   },
   "outputs": [
    {
     "name": "stdout",
     "output_type": "stream",
     "text": [
      "Epoch 1/5\n",
      "\u001b[1m1179/1179\u001b[0m \u001b[32m━━━━━━━━━━━━━━━━━━━━\u001b[0m\u001b[37m\u001b[0m \u001b[1m99s\u001b[0m 77ms/step - accuracy: 0.2361 - loss: 3.0274 - val_accuracy: 0.4208 - val_loss: 2.1970\n",
      "Epoch 2/5\n",
      "\u001b[1m1179/1179\u001b[0m \u001b[32m━━━━━━━━━━━━━━━━━━━━\u001b[0m\u001b[37m\u001b[0m \u001b[1m90s\u001b[0m 76ms/step - accuracy: 0.4484 - loss: 2.1063 - val_accuracy: 0.4957 - val_loss: 1.9083\n",
      "Epoch 3/5\n",
      "\u001b[1m1179/1179\u001b[0m \u001b[32m━━━━━━━━━━━━━━━━━━━━\u001b[0m\u001b[37m\u001b[0m \u001b[1m95s\u001b[0m 80ms/step - accuracy: 0.5172 - loss: 1.8179 - val_accuracy: 0.5220 - val_loss: 1.7909\n",
      "Epoch 4/5\n",
      "\u001b[1m1179/1179\u001b[0m \u001b[32m━━━━━━━━━━━━━━━━━━━━\u001b[0m\u001b[37m\u001b[0m \u001b[1m89s\u001b[0m 76ms/step - accuracy: 0.5510 - loss: 1.6691 - val_accuracy: 0.5329 - val_loss: 1.7506\n",
      "Epoch 5/5\n",
      "\u001b[1m1179/1179\u001b[0m \u001b[32m━━━━━━━━━━━━━━━━━━━━\u001b[0m\u001b[37m\u001b[0m \u001b[1m92s\u001b[0m 78ms/step - accuracy: 0.5687 - loss: 1.5843 - val_accuracy: 0.5390 - val_loss: 1.7335\n"
     ]
    }
   ],
   "source": [
    "history = model.fit(x_train, y_train, epochs=5, batch_size=128, validation_split=0.1)"
   ]
  },
  {
   "cell_type": "markdown",
   "metadata": {},
   "source": [
    "### Model Evaluation"
   ]
  },
  {
   "cell_type": "code",
   "execution_count": 26,
   "metadata": {
    "execution": {
     "iopub.execute_input": "2025-05-17T09:30:18.408089Z",
     "iopub.status.busy": "2025-05-17T09:30:18.406546Z",
     "iopub.status.idle": "2025-05-17T09:30:34.491185Z",
     "shell.execute_reply": "2025-05-17T09:30:34.490055Z",
     "shell.execute_reply.started": "2025-05-17T09:30:18.408052Z"
    }
   },
   "outputs": [
    {
     "name": "stdout",
     "output_type": "stream",
     "text": [
      "\u001b[1m1310/1310\u001b[0m \u001b[32m━━━━━━━━━━━━━━━━━━━━\u001b[0m\u001b[37m\u001b[0m \u001b[1m16s\u001b[0m 12ms/step - accuracy: 0.5447 - loss: 1.7222\n",
      "Test Accuracy: 0.5433\n"
     ]
    }
   ],
   "source": [
    "test_loss, test_acc = model.evaluate(x_test, y_test)\n",
    "print(f\"Test Accuracy: {test_acc:.4f}\")"
   ]
  },
  {
   "cell_type": "code",
   "execution_count": 28,
   "metadata": {
    "execution": {
     "iopub.execute_input": "2025-05-17T09:31:28.682313Z",
     "iopub.status.busy": "2025-05-17T09:31:28.682000Z",
     "iopub.status.idle": "2025-05-17T09:31:46.592422Z",
     "shell.execute_reply": "2025-05-17T09:31:46.591404Z",
     "shell.execute_reply.started": "2025-05-17T09:31:28.682294Z"
    }
   },
   "outputs": [
    {
     "name": "stdout",
     "output_type": "stream",
     "text": [
      "\u001b[1m1310/1310\u001b[0m \u001b[32m━━━━━━━━━━━━━━━━━━━━\u001b[0m\u001b[37m\u001b[0m \u001b[1m17s\u001b[0m 13ms/step\n"
     ]
    }
   ],
   "source": [
    "y_prob = model.predict(x_test)\n",
    "y_pred = np.argmax(y_prob, axis=1)\n",
    "y_true = np.argmax(y_test, axis=1)"
   ]
  },
  {
   "cell_type": "code",
   "execution_count": 29,
   "metadata": {
    "execution": {
     "iopub.execute_input": "2025-05-17T09:32:24.462102Z",
     "iopub.status.busy": "2025-05-17T09:32:24.461771Z",
     "iopub.status.idle": "2025-05-17T09:32:24.584764Z",
     "shell.execute_reply": "2025-05-17T09:32:24.583950Z",
     "shell.execute_reply.started": "2025-05-17T09:32:24.462078Z"
    },
    "scrolled": true
   },
   "outputs": [
    {
     "name": "stdout",
     "output_type": "stream",
     "text": [
      "                precision    recall  f1-score   support\n",
      "\n",
      "          ARTS       0.24      0.19      0.21       293\n",
      "ARTS & CULTURE       0.31      0.07      0.12       275\n",
      "  BLACK VOICES       0.36      0.31      0.33       889\n",
      "      BUSINESS       0.42      0.40      0.41      1216\n",
      "       COLLEGE       0.46      0.22      0.30       202\n",
      "        COMEDY       0.54      0.39      0.45      1022\n",
      "         CRIME       0.44      0.54      0.48       713\n",
      "CULTURE & ARTS       0.46      0.23      0.31       202\n",
      "       DIVORCE       0.75      0.60      0.67       664\n",
      "     EDUCATION       0.45      0.13      0.21       209\n",
      " ENTERTAINMENT       0.55      0.72      0.62      3419\n",
      "   ENVIRONMENT       0.43      0.20      0.27       313\n",
      "         FIFTY       0.00      0.00      0.00       263\n",
      "  FOOD & DRINK       0.59      0.72      0.65      1270\n",
      "     GOOD NEWS       0.48      0.04      0.08       270\n",
      "         GREEN       0.32      0.30      0.31       532\n",
      "HEALTHY LIVING       0.17      0.00      0.00      1302\n",
      " HOME & LIVING       0.65      0.66      0.65       879\n",
      "        IMPACT       0.28      0.16      0.20       673\n",
      " LATINO VOICES       0.83      0.02      0.04       238\n",
      "         MEDIA       0.51      0.42      0.46       607\n",
      "         MONEY       0.38      0.22      0.28       355\n",
      "     PARENTING       0.47      0.65      0.54      1768\n",
      "       PARENTS       0.30      0.05      0.08       795\n",
      "      POLITICS       0.70      0.79      0.74      7155\n",
      "  QUEER VOICES       0.67      0.64      0.66      1262\n",
      "      RELIGION       0.55      0.40      0.47       530\n",
      "       SCIENCE       0.46      0.35      0.40       424\n",
      "        SPORTS       0.58      0.58      0.58      1014\n",
      "         STYLE       0.33      0.04      0.08       464\n",
      "STYLE & BEAUTY       0.67      0.78      0.72      1975\n",
      "         TASTE       0.35      0.02      0.04       427\n",
      "          TECH       0.45      0.31      0.37       398\n",
      " THE WORLDPOST       0.34      0.57      0.42       741\n",
      "        TRAVEL       0.54      0.75      0.63      2021\n",
      "     U.S. NEWS       0.17      0.00      0.01       269\n",
      "      WEDDINGS       0.69      0.76      0.72       709\n",
      "    WEIRD NEWS       0.26      0.20      0.23       550\n",
      "      WELLNESS       0.45      0.79      0.57      3672\n",
      "         WOMEN       0.46      0.21      0.28       727\n",
      "    WORLD NEWS       0.28      0.03      0.06       665\n",
      "     WORLDPOST       0.24      0.09      0.13       534\n",
      "\n",
      "      accuracy                           0.54     41906\n",
      "     macro avg       0.44      0.35      0.35     41906\n",
      "  weighted avg       0.51      0.54      0.50     41906\n",
      "\n"
     ]
    },
    {
     "name": "stderr",
     "output_type": "stream",
     "text": [
      "/usr/local/lib/python3.11/dist-packages/sklearn/metrics/_classification.py:1344: UndefinedMetricWarning: Precision and F-score are ill-defined and being set to 0.0 in labels with no predicted samples. Use `zero_division` parameter to control this behavior.\n",
      "  _warn_prf(average, modifier, msg_start, len(result))\n",
      "/usr/local/lib/python3.11/dist-packages/sklearn/metrics/_classification.py:1344: UndefinedMetricWarning: Precision and F-score are ill-defined and being set to 0.0 in labels with no predicted samples. Use `zero_division` parameter to control this behavior.\n",
      "  _warn_prf(average, modifier, msg_start, len(result))\n",
      "/usr/local/lib/python3.11/dist-packages/sklearn/metrics/_classification.py:1344: UndefinedMetricWarning: Precision and F-score are ill-defined and being set to 0.0 in labels with no predicted samples. Use `zero_division` parameter to control this behavior.\n",
      "  _warn_prf(average, modifier, msg_start, len(result))\n"
     ]
    }
   ],
   "source": [
    "print(classification_report(y_true, y_pred, target_names=label_encoder.classes_))"
   ]
  },
  {
   "cell_type": "markdown",
   "metadata": {},
   "source": [
    "### Visualization"
   ]
  },
  {
   "cell_type": "code",
   "execution_count": 31,
   "metadata": {
    "execution": {
     "iopub.execute_input": "2025-05-17T09:32:47.161442Z",
     "iopub.status.busy": "2025-05-17T09:32:47.160920Z",
     "iopub.status.idle": "2025-05-17T09:32:47.397650Z",
     "shell.execute_reply": "2025-05-17T09:32:47.396553Z",
     "shell.execute_reply.started": "2025-05-17T09:32:47.161417Z"
    }
   },
   "outputs": [
    {
     "data": {
      "image/png": "[encoded data removed]",
      "text/plain": [
       "<Figure size 640x480 with 1 Axes>"
      ]
     },
     "metadata": {},
     "output_type": "display_data"
    }
   ],
   "source": [
    "plt.plot(history.history['accuracy'], label='Train Acc')\n",
    "plt.plot(history.history['val_accuracy'], label='Val Acc')\n",
    "plt.title('Accuracy')\n",
    "plt.legend()\n",
    "plt.show()"
   ]
  },
  {
   "cell_type": "code",
   "execution_count": 32,
   "metadata": {
    "execution": {
     "iopub.execute_input": "2025-05-17T09:32:50.841965Z",
     "iopub.status.busy": "2025-05-17T09:32:50.841242Z",
     "iopub.status.idle": "2025-05-17T09:32:51.107884Z",
     "shell.execute_reply": "2025-05-17T09:32:51.106058Z",
     "shell.execute_reply.started": "2025-05-17T09:32:50.841935Z"
    }
   },
   "outputs": [
    {
     "data": {
      "image/png": "[encoded data removed]",
      "text/plain": [
       "<Figure size 640x480 with 1 Axes>"
      ]
     },
     "metadata": {},
     "output_type": "display_data"
    }
   ],
   "source": [
    "plt.plot(history.history['loss'], label='Train Loss')\n",
    "plt.plot(history.history['val_loss'], label='Val Loss')\n",
    "plt.title('Loss')\n",
    "plt.legend()\n",
    "plt.show()"
   ]
  },
  {
   "cell_type": "code",
   "execution_count": null,
   "metadata": {},
   "outputs": [],
   "source": []
  }
 ],
 "metadata": {
  "kaggle": {
   "accelerator": "none",
   "dataSources": [
    {
     "datasetId": 32526,
     "sourceId": 4243451,
     "sourceType": "datasetVersion"
    }
   ],
   "dockerImageVersionId": 31040,
   "isGpuEnabled": false,
   "isInternetEnabled": true,
   "language": "python",
   "sourceType": "notebook"
  },
  "kernelspec": {
   "display_name": "Python 3 (ipykernel)",
   "language": "python",
   "name": "python3"
  },
  "language_info": {
   "codemirror_mode": {
    "name": "ipython",
    "version": 3
   },
   "file_extension": ".py",
   "mimetype": "text/x-python",
   "name": "python",
   "nbconvert_exporter": "python",
   "pygments_lexer": "ipython3",
   "version": "3.13.7"
  }
 },
 "nbformat": 4,
 "nbformat_minor": 4
}
